{
 "cells": [
  {
   "cell_type": "code",
   "execution_count": 1,
   "metadata": {
    "collapsed": true
   },
   "outputs": [],
   "source": [
    "import pandas as pd\n",
    "from ortools.linear_solver import pywraplp"
   ]
  },
  {
   "cell_type": "code",
   "execution_count": 2,
   "metadata": {},
   "outputs": [],
   "source": [
    "# Import data\n",
    "game_list = pd.read_excel('Toy_Data.xlsx', sheetname='Games')\n",
    "game_list['Count']=1\n",
    "\n",
    "# cols_to_zero = list(set(game_list.columns.tolist()) - set(['Game_ID']))\n",
    "# game_list_0 = game_list.copy()\n",
    "# for var in cols_to_zero:\n",
    "#     game_list_0[var] = 0\n",
    "            \n",
    "# game_list = game_list.append(game_list_0).reset_index(drop=True)"
   ]
  },
  {
   "cell_type": "code",
   "execution_count": 3,
   "metadata": {
    "collapsed": true
   },
   "outputs": [],
   "source": [
    "# Create solver object\n",
    "solver = pywraplp.Solver('SolveIntegerProblem', pywraplp.Solver.CBC_MIXED_INTEGER_PROGRAMMING)\n",
    "\n",
    "# create x array\n",
    "x_list = {}\n",
    "\n",
    "# variable for each game.  1 is buy.  0 is not\n",
    "for i in range(len(game_list)):\n",
    "    x_list[i] = solver.IntVar(0.0, 1.0, 'x'+str(i))"
   ]
  },
  {
   "cell_type": "code",
   "execution_count": 4,
   "metadata": {},
   "outputs": [],
   "source": [
    "# Adds constraints\n",
    "\n",
    "n_games = 2\n",
    "\n",
    "constraint_count = solver.Constraint(n_games, n_games)\n",
    "for i in range(len(game_list)):\n",
    "    constraint_count.SetCoefficient(x_list[i], int(game_list.loc[i, 'Count']))"
   ]
  },
  {
   "cell_type": "code",
   "execution_count": 5,
   "metadata": {},
   "outputs": [],
   "source": [
    "# # Adds program-wide spend constraint\n",
    "# spend = 5\n",
    "\n",
    "# constraint_spend = solver.Constraint(0, spend)\n",
    "# for i in range(len(game_list)):\n",
    "#     constraint_spend.SetCoefficient(x_list[i], float(game_list.loc[i, 'Revenue']))\n",
    "\n"
   ]
  },
  {
   "cell_type": "code",
   "execution_count": 6,
   "metadata": {},
   "outputs": [
    {
     "name": "stdout",
     "output_type": "stream",
     "text": [
      "0 -0.9\n",
      "1 1.1\n",
      "2 -3.8\n",
      "3 -1.8\n"
     ]
    }
   ],
   "source": [
    "# Adds program-wide roi constraint\n",
    "roi = 1.9\n",
    "\n",
    "constraint_roi = solver.Constraint(0, solver.infinity())\n",
    "for i in range(len(game_list)):\n",
    "    roi_i = game_list.loc[i, 'Revenue'] - (1+roi)*game_list.loc[i, 'Cost']\n",
    "    print (i, roi_i)\n",
    "    constraint_roi.SetCoefficient(x_list[i], float(roi_i))\n",
    "\n",
    "\n"
   ]
  },
  {
   "cell_type": "code",
   "execution_count": 7,
   "metadata": {
    "collapsed": true
   },
   "outputs": [],
   "source": [
    "# Set objective     \n",
    "obj = solver.Objective()\n",
    "for i in range(len(game_list)):\n",
    "    obj.SetCoefficient(x_list[i], int(game_list.loc[i, 'Profit']))\n",
    "obj.SetMaximization()\n",
    "\n",
    "# Solve problem\n",
    "result_status = solver.Solve()\n",
    "results = game_list.copy()"
   ]
  },
  {
   "cell_type": "code",
   "execution_count": 8,
   "metadata": {},
   "outputs": [
    {
     "name": "stdout",
     "output_type": "stream",
     "text": [
      "1 1.0\n",
      "2 1.0\n",
      "3 0.0\n",
      "4 0.0\n"
     ]
    }
   ],
   "source": [
    "for i in range(len(game_list)):\n",
    "    print(i+1, x_list[i].solution_value())"
   ]
  },
  {
   "cell_type": "code",
   "execution_count": 10,
   "metadata": {
    "collapsed": true
   },
   "outputs": [],
   "source": [
    "# now let's maximize ROI\n",
    "# Create solver object\n",
    "solver = pywraplp.Solver('SolveIntegerProblem', pywraplp.Solver.CBC_MIXED_INTEGER_PROGRAMMING)\n",
    "\n",
    "# create x array\n",
    "x_list = {}\n",
    "\n",
    "# variable for each game.  1 is buy.  0 is not\n",
    "for i in range(len(game_list)):\n",
    "    x_list[i] = solver.IntVar(0.0, 1.0, 'x'+str(i))"
   ]
  },
  {
   "cell_type": "code",
   "execution_count": 11,
   "metadata": {
    "collapsed": true
   },
   "outputs": [],
   "source": [
    "# Adds constraints\n",
    "\n",
    "n_games = 2\n",
    "\n",
    "constraint_count = solver.Constraint(n_games, n_games)\n",
    "for i in range(len(game_list)):\n",
    "    constraint_count.SetCoefficient(x_list[i], int(game_list.loc[i, 'Count']))"
   ]
  },
  {
   "cell_type": "code",
   "execution_count": 12,
   "metadata": {
    "collapsed": true
   },
   "outputs": [],
   "source": [
    "# Set objective     \n",
    "obj = solver.Objective()\n",
    "for i in range(len(game_list)):\n",
    "    roi_i = game_list.loc[i, 'Revenue'] - (1+roi)*game_list.loc[i, 'Cost']\n",
    "    obj.SetCoefficient(x_list[i], float(roi_i))\n",
    "obj.SetMaximization()\n",
    "\n",
    "# Solve problem\n",
    "result_status = solver.Solve()\n",
    "results = game_list.copy()"
   ]
  },
  {
   "cell_type": "code",
   "execution_count": 13,
   "metadata": {},
   "outputs": [
    {
     "name": "stdout",
     "output_type": "stream",
     "text": [
      "1 1.0\n",
      "2 1.0\n",
      "3 0.0\n",
      "4 0.0\n"
     ]
    }
   ],
   "source": [
    "for i in range(len(game_list)):\n",
    "    print(i+1, x_list[i].solution_value())"
   ]
  },
  {
   "cell_type": "code",
   "execution_count": null,
   "metadata": {
    "collapsed": true
   },
   "outputs": [],
   "source": []
  }
 ],
 "metadata": {
  "kernelspec": {
   "display_name": "Python 3",
   "language": "python",
   "name": "python3"
  },
  "language_info": {
   "codemirror_mode": {
    "name": "ipython",
    "version": 3
   },
   "file_extension": ".py",
   "mimetype": "text/x-python",
   "name": "python",
   "nbconvert_exporter": "python",
   "pygments_lexer": "ipython3",
   "version": "3.6.2"
  }
 },
 "nbformat": 4,
 "nbformat_minor": 2
}
